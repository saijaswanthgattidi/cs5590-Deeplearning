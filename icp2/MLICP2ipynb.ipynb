{
  "nbformat": 4,
  "nbformat_minor": 0,
  "metadata": {
    "colab": {
      "name": "MLICP2ipynb",
      "provenance": [],
      "include_colab_link": true
    },
    "kernelspec": {
      "name": "python3",
      "display_name": "Python 3"
    },
    "accelerator": "GPU"
  },
  "cells": [
    {
      "cell_type": "markdown",
      "metadata": {
        "id": "view-in-github",
        "colab_type": "text"
      },
      "source": [
        "<a href=\"https://colab.research.google.com/github/saijaswanthgattidi/cs5590-Deeplearning/blob/master/icp2/MLICP2ipynb.ipynb\" target=\"_parent\"><img src=\"https://colab.research.google.com/assets/colab-badge.svg\" alt=\"Open In Colab\"/></a>"
      ]
    },
    {
      "cell_type": "markdown",
      "metadata": {
        "id": "OfI1eOEvnr2f",
        "colab_type": "text"
      },
      "source": [
        "**From uper Menu choose:**\n",
        "---\n",
        "Runtime --> Change runtime type:\n",
        "---\n",
        "change Hardare accelerator to (gpu)"
      ]
    },
    {
      "cell_type": "code",
      "metadata": {
        "id": "Ry7NRUf0llQ8",
        "colab_type": "code",
        "outputId": "a25676c3-ce9f-4447-9102-b7991ed999c6",
        "colab": {
          "base_uri": "https://localhost:8080/",
          "height": 105
        }
      },
      "source": [
        "%tensorflow_version 1.15\n",
        "import tensorflow as tf\n",
        "from keras import Sequential\n",
        "from keras.datasets import mnist\n",
        "import numpy as np\n",
        "from keras.layers import Dense\n",
        "from keras.utils import to_categorical"
      ],
      "execution_count": 19,
      "outputs": [
        {
          "output_type": "stream",
          "text": [
            "`%tensorflow_version` only switches the major version: 1.x or 2.x.\n",
            "You set: `1.15`. This will be interpreted as: `1.x`.\n",
            "\n",
            "\n",
            "TensorFlow is already loaded. Please restart the runtime to change versions.\n"
          ],
          "name": "stdout"
        }
      ]
    },
    {
      "cell_type": "code",
      "metadata": {
        "id": "XReLyY3jlr-R",
        "colab_type": "code",
        "colab": {}
      },
      "source": [
        "(train_images,train_labels),(test_images, test_labels) = mnist.load_data()"
      ],
      "execution_count": 0,
      "outputs": []
    },
    {
      "cell_type": "code",
      "metadata": {
        "id": "RrEOE2a_luF1",
        "colab_type": "code",
        "outputId": "ebd4975b-fc2f-470f-e0b6-bfd6f0efda8b",
        "colab": {
          "base_uri": "https://localhost:8080/",
          "height": 34
        }
      },
      "source": [
        "print(train_images.shape[1:])"
      ],
      "execution_count": 21,
      "outputs": [
        {
          "output_type": "stream",
          "text": [
            "(28, 28)\n"
          ],
          "name": "stdout"
        }
      ]
    },
    {
      "cell_type": "markdown",
      "metadata": {
        "id": "oi1noKXWl0E4",
        "colab_type": "text"
      },
      "source": [
        "#process the data\n",
        "#1. convert each image of shape 28*28 to 784 dimensional which will be fed to the network as a single feature"
      ]
    },
    {
      "cell_type": "code",
      "metadata": {
        "id": "3KcvF2qFlwhr",
        "colab_type": "code",
        "outputId": "8d828745-398a-4e9f-d867-a22c302b5ffa",
        "colab": {
          "base_uri": "https://localhost:8080/",
          "height": 34
        }
      },
      "source": [
        "dimData = np.prod(train_images.shape[1:])\n",
        "print(dimData)\n",
        "train_data = train_images.reshape(train_images.shape[0],dimData)\n",
        "test_data = test_images.reshape(test_images.shape[0],dimData)"
      ],
      "execution_count": 22,
      "outputs": [
        {
          "output_type": "stream",
          "text": [
            "784\n"
          ],
          "name": "stdout"
        }
      ]
    },
    {
      "cell_type": "markdown",
      "metadata": {
        "id": "CI3BKhj0l3fd",
        "colab_type": "text"
      },
      "source": [
        "#convert data to float and scale values between 0 and 1"
      ]
    },
    {
      "cell_type": "code",
      "metadata": {
        "id": "G_XcNfVfl1jH",
        "colab_type": "code",
        "colab": {}
      },
      "source": [
        "train_data = train_data.astype('float')\n",
        "test_data = test_data.astype('float')\n",
        "train_datad = train_data.astype('float')\n",
        "test_datad = test_data.astype('float')"
      ],
      "execution_count": 0,
      "outputs": []
    },
    {
      "cell_type": "markdown",
      "metadata": {
        "id": "ODdo3u8Ql8c8",
        "colab_type": "text"
      },
      "source": [
        "#scale data"
      ]
    },
    {
      "cell_type": "code",
      "metadata": {
        "id": "nky9C9FMl7BU",
        "colab_type": "code",
        "colab": {}
      },
      "source": [
        "train_data /=255.0\n",
        "test_data /=255.0"
      ],
      "execution_count": 0,
      "outputs": []
    },
    {
      "cell_type": "markdown",
      "metadata": {
        "id": "PVc9dRURl_oo",
        "colab_type": "text"
      },
      "source": [
        "#change the labels frominteger to one-hot encoding. to_categorical is doing the same thing as LabelEncoder()"
      ]
    },
    {
      "cell_type": "code",
      "metadata": {
        "id": "iGTKxNyYl-nE",
        "colab_type": "code",
        "colab": {}
      },
      "source": [
        "train_labels_one_hot = to_categorical(train_labels)\n",
        "test_labels_one_hot = to_categorical(test_labels)"
      ],
      "execution_count": 0,
      "outputs": []
    },
    {
      "cell_type": "markdown",
      "metadata": {
        "id": "1YFoN0z6mEbR",
        "colab_type": "text"
      },
      "source": [
        "#creating network"
      ]
    },
    {
      "cell_type": "code",
      "metadata": {
        "id": "9ui43p57mCgk",
        "colab_type": "code",
        "colab": {}
      },
      "source": [
        "model = Sequential()\n",
        "model.add(Dense(512, activation='relu', input_shape=(dimData,)))\n",
        "model.add(Dense(512, activation='relu'))\n",
        "model.add(Dense(10, activation='softmax'))"
      ],
      "execution_count": 0,
      "outputs": []
    },
    {
      "cell_type": "markdown",
      "metadata": {
        "id": "538_9WbGmp5a",
        "colab_type": "text"
      },
      "source": [
        "# Compile model"
      ]
    },
    {
      "cell_type": "code",
      "metadata": {
        "id": "ck4tEWPMmG0j",
        "colab_type": "code",
        "colab": {}
      },
      "source": [
        "model.compile(optimizer='rmsprop', loss='categorical_crossentropy', metrics=['accuracy'])"
      ],
      "execution_count": 0,
      "outputs": []
    },
    {
      "cell_type": "code",
      "metadata": {
        "id": "rsNP_elemr_i",
        "colab_type": "code",
        "outputId": "2227bd38-c68e-4467-f57f-f78dbe042456",
        "colab": {
          "base_uri": "https://localhost:8080/",
          "height": 386
        }
      },
      "source": [
        "history = model.fit(train_data, train_labels_one_hot, batch_size=256, epochs=10, verbose=1,\n",
        "                   validation_data=(test_data, test_labels_one_hot))"
      ],
      "execution_count": 29,
      "outputs": [
        {
          "output_type": "stream",
          "text": [
            "Train on 60000 samples, validate on 10000 samples\n",
            "Epoch 1/10\n",
            "60000/60000 [==============================] - 1s 23us/step - loss: 0.2701 - acc: 0.9172 - val_loss: 0.1090 - val_acc: 0.9644\n",
            "Epoch 2/10\n",
            "60000/60000 [==============================] - 1s 18us/step - loss: 0.0912 - acc: 0.9716 - val_loss: 0.1025 - val_acc: 0.9692\n",
            "Epoch 3/10\n",
            "60000/60000 [==============================] - 1s 18us/step - loss: 0.0580 - acc: 0.9817 - val_loss: 0.0797 - val_acc: 0.9760\n",
            "Epoch 4/10\n",
            "60000/60000 [==============================] - 1s 18us/step - loss: 0.0403 - acc: 0.9867 - val_loss: 0.0914 - val_acc: 0.9738\n",
            "Epoch 5/10\n",
            "60000/60000 [==============================] - 1s 18us/step - loss: 0.0286 - acc: 0.9907 - val_loss: 0.0748 - val_acc: 0.9792\n",
            "Epoch 6/10\n",
            "60000/60000 [==============================] - 1s 18us/step - loss: 0.0230 - acc: 0.9923 - val_loss: 0.1001 - val_acc: 0.9734\n",
            "Epoch 7/10\n",
            "60000/60000 [==============================] - 1s 18us/step - loss: 0.0169 - acc: 0.9945 - val_loss: 0.0823 - val_acc: 0.9813\n",
            "Epoch 8/10\n",
            "60000/60000 [==============================] - 1s 18us/step - loss: 0.0139 - acc: 0.9956 - val_loss: 0.0792 - val_acc: 0.9814\n",
            "Epoch 9/10\n",
            "60000/60000 [==============================] - 1s 18us/step - loss: 0.0112 - acc: 0.9962 - val_loss: 0.1364 - val_acc: 0.9720\n",
            "Epoch 10/10\n",
            "60000/60000 [==============================] - 1s 18us/step - loss: 0.0094 - acc: 0.9969 - val_loss: 0.1034 - val_acc: 0.9807\n"
          ],
          "name": "stdout"
        }
      ]
    },
    {
      "cell_type": "code",
      "metadata": {
        "id": "Ld87-pHSnODK",
        "colab_type": "code",
        "outputId": "41aca2f6-beaf-4712-f0e9-73a05e0735ca",
        "colab": {
          "base_uri": "https://localhost:8080/",
          "height": 295
        }
      },
      "source": [
        "\n",
        "import matplotlib.pyplot as plt\n",
        "plt.plot(history.history['acc'])\n",
        "plt.plot(history.history['val_acc'])\n",
        "plt.plot(history.history['loss'])\n",
        "plt.plot(history.history['val_loss'])\n",
        "plt.title('model accuracy')\n",
        "plt.ylabel('accuracy')\n",
        "plt.xlabel('epoch')\n",
        "plt.legend(['accuray', 'validation accuracy','loss','val_loss'], loc='upper left')\n",
        "plt.show()"
      ],
      "execution_count": 30,
      "outputs": [
        {
          "output_type": "display_data",
          "data": {
            "image/png": "[encoded data removed]",
            "text/plain": [
              "<Figure size 432x288 with 1 Axes>"
            ]
          },
          "metadata": {
            "tags": []
          }
        }
      ]
    },
    {
      "cell_type": "code",
      "metadata": {
        "id": "MvahD8HZ_bNW",
        "colab_type": "code",
        "outputId": "6a60aeda-501a-46b4-c359-e7e984d7db5b",
        "colab": {
          "base_uri": "https://localhost:8080/",
          "height": 281
        }
      },
      "source": [
        "plt.imshow(test_images[4,:,:],cmap='gray')\n",
        "plt.title('Ground Truth : {}'.format(test_labels[4]))\n",
        "plt.show()"
      ],
      "execution_count": 31,
      "outputs": [
        {
          "output_type": "display_data",
          "data": {
            "image/png": "[encoded data removed]",
            "text/plain": [
              "<Figure size 432x288 with 1 Axes>"
            ]
          },
          "metadata": {
            "tags": []
          }
        }
      ]
    },
    {
      "cell_type": "code",
      "metadata": {
        "id": "bvOdFJ11_c5G",
        "colab_type": "code",
        "outputId": "90957677-e81f-4c03-82a6-3a1c132b39a1",
        "colab": {
          "base_uri": "https://localhost:8080/",
          "height": 34
        }
      },
      "source": [
        "\n",
        "x=model.predict_classes(test_data[[4],:])\n",
        "print(\"Predicted label\",test_labels[x])"
      ],
      "execution_count": 32,
      "outputs": [
        {
          "output_type": "stream",
          "text": [
            "Predicted label [4]\n"
          ],
          "name": "stdout"
        }
      ]
    },
    {
      "cell_type": "code",
      "metadata": {
        "id": "-twvhU9u_hmF",
        "colab_type": "code",
        "outputId": "012d999e-f351-41e9-f5b1-81d8fbc8cc10",
        "colab": {
          "base_uri": "https://localhost:8080/",
          "height": 404
        }
      },
      "source": [
        "m = Sequential()\n",
        "m.add(Dense(512, activation='relu', input_shape=(dimData,)))\n",
        "m.add(Dense(512, activation='relu'))\n",
        "m.add(Dense(512, activation='tanh'))\n",
        "m.add(Dense(512, activation='sigmoid'))\n",
        "m.add(Dense(10, activation='softmax'))\n",
        "m.compile(optimizer='rmsprop', loss='categorical_crossentropy', metrics=['accuracy'])\n",
        "m.fit(train_data, train_labels_one_hot, batch_size=256, epochs=10, verbose=1,\n",
        "                   validation_data=(test_data, test_labels_one_hot))"
      ],
      "execution_count": 33,
      "outputs": [
        {
          "output_type": "stream",
          "text": [
            "Train on 60000 samples, validate on 10000 samples\n",
            "Epoch 1/10\n",
            "60000/60000 [==============================] - 2s 28us/step - loss: 0.3249 - acc: 0.8959 - val_loss: 0.2004 - val_acc: 0.9382\n",
            "Epoch 2/10\n",
            "60000/60000 [==============================] - 1s 20us/step - loss: 0.1025 - acc: 0.9683 - val_loss: 0.1205 - val_acc: 0.9640\n",
            "Epoch 3/10\n",
            "60000/60000 [==============================] - 1s 20us/step - loss: 0.0645 - acc: 0.9802 - val_loss: 0.1082 - val_acc: 0.9692\n",
            "Epoch 4/10\n",
            "60000/60000 [==============================] - 1s 20us/step - loss: 0.0458 - acc: 0.9864 - val_loss: 0.1012 - val_acc: 0.9725\n",
            "Epoch 5/10\n",
            "60000/60000 [==============================] - 1s 20us/step - loss: 0.0348 - acc: 0.9892 - val_loss: 0.0791 - val_acc: 0.9799\n",
            "Epoch 6/10\n",
            "60000/60000 [==============================] - 1s 20us/step - loss: 0.0283 - acc: 0.9910 - val_loss: 0.1035 - val_acc: 0.9753\n",
            "Epoch 7/10\n",
            "60000/60000 [==============================] - 1s 20us/step - loss: 0.0228 - acc: 0.9928 - val_loss: 0.1142 - val_acc: 0.9744\n",
            "Epoch 8/10\n",
            "60000/60000 [==============================] - 1s 20us/step - loss: 0.0191 - acc: 0.9942 - val_loss: 0.1019 - val_acc: 0.9777\n",
            "Epoch 9/10\n",
            "60000/60000 [==============================] - 1s 20us/step - loss: 0.0169 - acc: 0.9953 - val_loss: 0.1164 - val_acc: 0.9761\n",
            "Epoch 10/10\n",
            "60000/60000 [==============================] - 1s 21us/step - loss: 0.0144 - acc: 0.9959 - val_loss: 0.0954 - val_acc: 0.9809\n"
          ],
          "name": "stdout"
        },
        {
          "output_type": "execute_result",
          "data": {
            "text/plain": [
              "<keras.callbacks.History at 0x7fd8c7e32ef0>"
            ]
          },
          "metadata": {
            "tags": []
          },
          "execution_count": 33
        }
      ]
    },
    {
      "cell_type": "code",
      "metadata": {
        "id": "DBRLQm7x_tcg",
        "colab_type": "code",
        "outputId": "25c2d96a-7b07-4458-9a90-c78767f8fd07",
        "colab": {
          "base_uri": "https://localhost:8080/",
          "height": 404
        }
      },
      "source": [
        "\n",
        "p = Sequential()\n",
        "p.add(Dense(512, activation='relu', input_shape=(dimData,)))\n",
        "p.add(Dense(512, activation='relu'))\n",
        "p.add(Dense(10, activation='softmax'))\n",
        "p.compile(optimizer='rmsprop', loss='categorical_crossentropy', metrics=['accuracy'])\n",
        "p.fit(train_datad, train_labels_one_hot, batch_size=256, epochs=10, verbose=1,\n",
        "                   validation_data=(test_datad, test_labels_one_hot)) "
      ],
      "execution_count": 34,
      "outputs": [
        {
          "output_type": "stream",
          "text": [
            "Train on 60000 samples, validate on 10000 samples\n",
            "Epoch 1/10\n",
            "60000/60000 [==============================] - 2s 26us/step - loss: 14.4348 - acc: 0.1044 - val_loss: 14.4612 - val_acc: 0.1028\n",
            "Epoch 2/10\n",
            "60000/60000 [==============================] - 1s 18us/step - loss: 14.6007 - acc: 0.0941 - val_loss: 14.6804 - val_acc: 0.0892\n",
            "Epoch 3/10\n",
            "60000/60000 [==============================] - 1s 18us/step - loss: 14.6618 - acc: 0.0903 - val_loss: 14.6804 - val_acc: 0.0892\n",
            "Epoch 4/10\n",
            "60000/60000 [==============================] - 1s 18us/step - loss: 14.6618 - acc: 0.0904 - val_loss: 14.6804 - val_acc: 0.0892\n",
            "Epoch 5/10\n",
            "60000/60000 [==============================] - 1s 18us/step - loss: 14.6618 - acc: 0.0903 - val_loss: 14.6804 - val_acc: 0.0892\n",
            "Epoch 6/10\n",
            "60000/60000 [==============================] - 1s 19us/step - loss: 14.6618 - acc: 0.0903 - val_loss: 14.6804 - val_acc: 0.0892\n",
            "Epoch 7/10\n",
            "60000/60000 [==============================] - 1s 18us/step - loss: 14.6618 - acc: 0.0904 - val_loss: 14.6804 - val_acc: 0.0892\n",
            "Epoch 8/10\n",
            "60000/60000 [==============================] - 1s 19us/step - loss: 14.6618 - acc: 0.0904 - val_loss: 14.6804 - val_acc: 0.0892\n",
            "Epoch 9/10\n",
            "60000/60000 [==============================] - 1s 18us/step - loss: 14.6618 - acc: 0.0903 - val_loss: 14.6804 - val_acc: 0.0892\n",
            "Epoch 10/10\n",
            "60000/60000 [==============================] - 1s 18us/step - loss: 14.6618 - acc: 0.0903 - val_loss: 14.6804 - val_acc: 0.0892\n"
          ],
          "name": "stdout"
        },
        {
          "output_type": "execute_result",
          "data": {
            "text/plain": [
              "<keras.callbacks.History at 0x7fd8c7d8ef60>"
            ]
          },
          "metadata": {
            "tags": []
          },
          "execution_count": 34
        }
      ]
    },
    {
      "cell_type": "code",
      "metadata": {
        "id": "8H_1Hv79As_r",
        "colab_type": "code",
        "outputId": "f067e31b-37da-40b3-e564-4e1e1a3068f4",
        "colab": {
          "base_uri": "https://localhost:8080/",
          "height": 439
        }
      },
      "source": [
        "from keras.models import Model\n",
        "from keras.layers import Input\n",
        "i=Input(shape=(784,))\n",
        "x= Dense(512, activation='relu')(i)\n",
        "x= Dense(512, activation='relu')(x)\n",
        "\n",
        "x= Dense(10, activation='softmax')(x)\n",
        "p = Model(input=i,output=x)\n",
        "p.compile(optimizer='rmsprop', loss='categorical_crossentropy', metrics=['accuracy'])\n",
        "p.fit(train_data, train_labels_one_hot, batch_size=256, epochs=10, verbose=1,\n",
        "                   validation_data=(test_data, test_labels_one_hot))"
      ],
      "execution_count": 35,
      "outputs": [
        {
          "output_type": "stream",
          "text": [
            "/usr/local/lib/python3.6/dist-packages/ipykernel_launcher.py:8: UserWarning: Update your `Model` call to the Keras 2 API: `Model(inputs=Tensor(\"in..., outputs=Tensor(\"de...)`\n",
            "  \n"
          ],
          "name": "stderr"
        },
        {
          "output_type": "stream",
          "text": [
            "Train on 60000 samples, validate on 10000 samples\n",
            "Epoch 1/10\n",
            "60000/60000 [==============================] - 2s 26us/step - loss: 0.2770 - acc: 0.9137 - val_loss: 0.1167 - val_acc: 0.9618\n",
            "Epoch 2/10\n",
            "60000/60000 [==============================] - 1s 18us/step - loss: 0.0932 - acc: 0.9713 - val_loss: 0.0932 - val_acc: 0.9714\n",
            "Epoch 3/10\n",
            "60000/60000 [==============================] - 1s 18us/step - loss: 0.0581 - acc: 0.9818 - val_loss: 0.0700 - val_acc: 0.9776\n",
            "Epoch 4/10\n",
            "60000/60000 [==============================] - 1s 19us/step - loss: 0.0416 - acc: 0.9867 - val_loss: 0.0685 - val_acc: 0.9795\n",
            "Epoch 5/10\n",
            "60000/60000 [==============================] - 1s 19us/step - loss: 0.0289 - acc: 0.9905 - val_loss: 0.0698 - val_acc: 0.9789\n",
            "Epoch 6/10\n",
            "60000/60000 [==============================] - 1s 19us/step - loss: 0.0221 - acc: 0.9928 - val_loss: 0.0786 - val_acc: 0.9780\n",
            "Epoch 7/10\n",
            "60000/60000 [==============================] - 1s 18us/step - loss: 0.0170 - acc: 0.9942 - val_loss: 0.0757 - val_acc: 0.9811\n",
            "Epoch 8/10\n",
            "60000/60000 [==============================] - 1s 18us/step - loss: 0.0138 - acc: 0.9956 - val_loss: 0.1040 - val_acc: 0.9749\n",
            "Epoch 9/10\n",
            "60000/60000 [==============================] - 1s 18us/step - loss: 0.0120 - acc: 0.9961 - val_loss: 0.0900 - val_acc: 0.9796\n",
            "Epoch 10/10\n",
            "60000/60000 [==============================] - 1s 19us/step - loss: 0.0094 - acc: 0.9971 - val_loss: 0.0743 - val_acc: 0.9832\n"
          ],
          "name": "stdout"
        },
        {
          "output_type": "execute_result",
          "data": {
            "text/plain": [
              "<keras.callbacks.History at 0x7fd8c7c96eb8>"
            ]
          },
          "metadata": {
            "tags": []
          },
          "execution_count": 35
        }
      ]
    }
  ]
}